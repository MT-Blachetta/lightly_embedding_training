{
 "cells": [
  {
   "cell_type": "code",
   "execution_count": 1,
   "id": "7f93bb52",
   "metadata": {},
   "outputs": [
    {
     "name": "stderr",
     "output_type": "stream",
     "text": [
      "C:\\ProgramData\\Anaconda3\\lib\\site-packages\\sklearn\\feature_extraction\\image.py:167: DeprecationWarning: `np.int` is a deprecated alias for the builtin `int`. To silence this warning, use `int` by itself. Doing this will not modify any behavior and is safe. When replacing `np.int`, you may wish to use e.g. `np.int64` or `np.int32` to specify the precision. If you wish to review your current use, check the release note link for additional information.\n",
      "Deprecated in NumPy 1.20; for more details and guidance: https://numpy.org/devdocs/release/1.20.0-notes.html#deprecations\n",
      "  dtype=np.int):\n",
      "C:\\ProgramData\\Anaconda3\\lib\\site-packages\\sklearn\\linear_model\\least_angle.py:30: DeprecationWarning: `np.float` is a deprecated alias for the builtin `float`. To silence this warning, use `float` by itself. Doing this will not modify any behavior and is safe. If you specifically wanted the numpy scalar type, use `np.float64` here.\n",
      "Deprecated in NumPy 1.20; for more details and guidance: https://numpy.org/devdocs/release/1.20.0-notes.html#deprecations\n",
      "  method='lar', copy_X=True, eps=np.finfo(np.float).eps,\n",
      "C:\\ProgramData\\Anaconda3\\lib\\site-packages\\sklearn\\linear_model\\least_angle.py:167: DeprecationWarning: `np.float` is a deprecated alias for the builtin `float`. To silence this warning, use `float` by itself. Doing this will not modify any behavior and is safe. If you specifically wanted the numpy scalar type, use `np.float64` here.\n",
      "Deprecated in NumPy 1.20; for more details and guidance: https://numpy.org/devdocs/release/1.20.0-notes.html#deprecations\n",
      "  method='lar', copy_X=True, eps=np.finfo(np.float).eps,\n",
      "C:\\ProgramData\\Anaconda3\\lib\\site-packages\\sklearn\\linear_model\\least_angle.py:284: DeprecationWarning: `np.float` is a deprecated alias for the builtin `float`. To silence this warning, use `float` by itself. Doing this will not modify any behavior and is safe. If you specifically wanted the numpy scalar type, use `np.float64` here.\n",
      "Deprecated in NumPy 1.20; for more details and guidance: https://numpy.org/devdocs/release/1.20.0-notes.html#deprecations\n",
      "  eps=np.finfo(np.float).eps, copy_Gram=True, verbose=0,\n",
      "C:\\ProgramData\\Anaconda3\\lib\\site-packages\\sklearn\\linear_model\\least_angle.py:862: DeprecationWarning: `np.float` is a deprecated alias for the builtin `float`. To silence this warning, use `float` by itself. Doing this will not modify any behavior and is safe. If you specifically wanted the numpy scalar type, use `np.float64` here.\n",
      "Deprecated in NumPy 1.20; for more details and guidance: https://numpy.org/devdocs/release/1.20.0-notes.html#deprecations\n",
      "  eps=np.finfo(np.float).eps, copy_X=True, fit_path=True,\n",
      "C:\\ProgramData\\Anaconda3\\lib\\site-packages\\sklearn\\linear_model\\least_angle.py:1101: DeprecationWarning: `np.float` is a deprecated alias for the builtin `float`. To silence this warning, use `float` by itself. Doing this will not modify any behavior and is safe. If you specifically wanted the numpy scalar type, use `np.float64` here.\n",
      "Deprecated in NumPy 1.20; for more details and guidance: https://numpy.org/devdocs/release/1.20.0-notes.html#deprecations\n",
      "  eps=np.finfo(np.float).eps, copy_X=True, fit_path=True,\n",
      "C:\\ProgramData\\Anaconda3\\lib\\site-packages\\sklearn\\linear_model\\least_angle.py:1127: DeprecationWarning: `np.float` is a deprecated alias for the builtin `float`. To silence this warning, use `float` by itself. Doing this will not modify any behavior and is safe. If you specifically wanted the numpy scalar type, use `np.float64` here.\n",
      "Deprecated in NumPy 1.20; for more details and guidance: https://numpy.org/devdocs/release/1.20.0-notes.html#deprecations\n",
      "  eps=np.finfo(np.float).eps, positive=False):\n",
      "C:\\ProgramData\\Anaconda3\\lib\\site-packages\\sklearn\\linear_model\\least_angle.py:1362: DeprecationWarning: `np.float` is a deprecated alias for the builtin `float`. To silence this warning, use `float` by itself. Doing this will not modify any behavior and is safe. If you specifically wanted the numpy scalar type, use `np.float64` here.\n",
      "Deprecated in NumPy 1.20; for more details and guidance: https://numpy.org/devdocs/release/1.20.0-notes.html#deprecations\n",
      "  max_n_alphas=1000, n_jobs=None, eps=np.finfo(np.float).eps,\n",
      "C:\\ProgramData\\Anaconda3\\lib\\site-packages\\sklearn\\linear_model\\least_angle.py:1602: DeprecationWarning: `np.float` is a deprecated alias for the builtin `float`. To silence this warning, use `float` by itself. Doing this will not modify any behavior and is safe. If you specifically wanted the numpy scalar type, use `np.float64` here.\n",
      "Deprecated in NumPy 1.20; for more details and guidance: https://numpy.org/devdocs/release/1.20.0-notes.html#deprecations\n",
      "  max_n_alphas=1000, n_jobs=None, eps=np.finfo(np.float).eps,\n",
      "C:\\ProgramData\\Anaconda3\\lib\\site-packages\\sklearn\\linear_model\\least_angle.py:1738: DeprecationWarning: `np.float` is a deprecated alias for the builtin `float`. To silence this warning, use `float` by itself. Doing this will not modify any behavior and is safe. If you specifically wanted the numpy scalar type, use `np.float64` here.\n",
      "Deprecated in NumPy 1.20; for more details and guidance: https://numpy.org/devdocs/release/1.20.0-notes.html#deprecations\n",
      "  eps=np.finfo(np.float).eps, copy_X=True, positive=False):\n"
     ]
    },
    {
     "name": "stdout",
     "output_type": "stream",
     "text": [
      "(256, 128)\n"
     ]
    }
   ],
   "source": [
    "import numpy as np\n",
    "import torch\n",
    "import nltk\n",
    "from nltk.cluster.kmeans import KMeansClusterer\n",
    "\n",
    "feature_dim = 128\n",
    "batch_size = 256\n",
    "\n",
    "ov = np.random.rand(batch_size,feature_dim)\n",
    "print(ov.shape)\n",
    "av = np.random.rand(batch_size,feature_dim)\n",
    "\n",
    "k = 10\n",
    "            #from spherecluster import SphericalKMeans\n",
    "clusterer = KMeansClusterer(k, distance=nltk.cluster.util.cosine_distance, repeats=20, normalise=True, avoid_empty_clusters=True)\n",
    "            #skm = SphericalKMeans(n_clusters=k)\n",
    "            #skm.fit(ov)\n",
    "clusterer_I = KMeansClusterer(k, distance=nltk.cluster.util.cosine_distance, repeats=20, normalise=True, avoid_empty_clusters=True)\n",
    "labels_ = clusterer.cluster(ov,True)\n",
    "labels_I = clusterer_I.cluster(av,True)\n",
    "cluster_centers = torch.Tensor( np.array(clusterer.means()) ) \n",
    "cluster_centers_I = torch.Tensor( np.array(clusterer_I.means()) )"
   ]
  },
  {
   "cell_type": "code",
   "execution_count": 5,
   "id": "0011e686",
   "metadata": {},
   "outputs": [
    {
     "data": {
      "text/plain": [
       "torch.Size([10, 2, 128])"
      ]
     },
     "execution_count": 5,
     "metadata": {},
     "output_type": "execute_result"
    }
   ],
   "source": [
    "test = torch.stack([cluster_centers,cluster_centers_I],dim=1)\n",
    "test.shape"
   ]
  },
  {
   "cell_type": "code",
   "execution_count": 8,
   "id": "fea07561",
   "metadata": {},
   "outputs": [
    {
     "data": {
      "text/plain": [
       "255"
      ]
     },
     "execution_count": 8,
     "metadata": {},
     "output_type": "execute_result"
    }
   ],
   "source": [
    "len(labels_[1:])"
   ]
  },
  {
   "cell_type": "code",
   "execution_count": 26,
   "id": "a365e2df",
   "metadata": {},
   "outputs": [
    {
     "data": {
      "text/plain": [
       "tensor([[0., 0., 0.,  ..., 0., 0., 0.],\n",
       "        [0., 0., 0.,  ..., 0., 0., 0.],\n",
       "        [0., 0., 0.,  ..., 0., 0., 0.],\n",
       "        ...,\n",
       "        [0., 0., 0.,  ..., 0., 0., 0.],\n",
       "        [0., 0., 0.,  ..., 0., 0., 0.],\n",
       "        [0., 0., 0.,  ..., 0., 0., 0.]])"
      ]
     },
     "execution_count": 26,
     "metadata": {},
     "output_type": "execute_result"
    }
   ],
   "source": [
    "tt = torch.zeros([256,128])\n",
    "tt"
   ]
  },
  {
   "cell_type": "code",
   "execution_count": 9,
   "id": "31b1a1b4",
   "metadata": {},
   "outputs": [
    {
     "data": {
      "text/plain": [
       "array([0., 0., 0., 1., 0., 0., 0., 0., 0., 0., 0., 0., 1., 0., 0., 0., 0.,\n",
       "       0., 0., 0., 0., 0., 0., 0., 0., 0., 0., 0., 0., 0., 0., 0., 0., 0.,\n",
       "       0., 0., 0., 0., 0., 0., 0., 0., 0., 0., 0., 0., 0., 0., 0., 0., 0.,\n",
       "       0., 0., 0., 0., 0., 0., 0., 0., 0., 0., 0., 0., 0., 0., 0., 0., 0.,\n",
       "       0., 0., 0., 0., 0., 0., 0., 0., 0., 0., 0., 0., 0., 0., 0., 0., 0.,\n",
       "       0., 0., 0., 0., 1., 0., 0., 0., 0., 0., 0., 0., 0., 0., 0., 0., 0.,\n",
       "       0., 0., 0., 0., 0., 0., 0., 0., 0., 0., 0., 0., 0., 0., 0., 0., 0.,\n",
       "       0., 0., 0., 0., 1., 0., 0., 0., 0., 0., 0., 0., 0., 0., 0., 0., 0.,\n",
       "       0., 0., 0., 0., 0., 0., 0., 0., 0., 0., 0., 0., 0., 0., 0., 0., 0.,\n",
       "       0., 0., 0., 0., 0., 0., 0., 0., 0., 0., 0., 0., 0., 0., 0., 0., 0.,\n",
       "       0., 0., 0., 0., 0., 0., 0., 0., 0., 0., 0., 0., 0., 0., 0., 0., 0.,\n",
       "       0., 0., 0., 0., 0., 0., 0., 0., 0., 0., 0., 0., 0., 0., 0., 0., 0.,\n",
       "       0., 0., 0., 0., 0., 0., 0., 0., 0., 0., 0., 0., 0., 0., 0., 0., 0.,\n",
       "       0., 0., 0., 0., 0., 0., 0., 0., 0., 0., 0., 0., 0., 0., 0., 0., 0.,\n",
       "       0., 0., 0., 0., 0., 0., 0., 0., 0., 0., 0., 0., 0., 0., 0., 0., 0.,\n",
       "       0.])"
      ]
     },
     "execution_count": 9,
     "metadata": {},
     "output_type": "execute_result"
    }
   ],
   "source": [
    "mask = np.zeros([256])\n",
    "mask[3] = 1\n",
    "mask[89] = 1\n",
    "mask[123] = 1\n",
    "mask[12] = 1\n",
    "mask"
   ]
  },
  {
   "cell_type": "code",
   "execution_count": 12,
   "id": "f0926146",
   "metadata": {},
   "outputs": [
    {
     "data": {
      "text/plain": [
       "array([[0., 0., 0., ..., 0., 0., 0.],\n",
       "       [0., 0., 0., ..., 0., 0., 0.],\n",
       "       [0., 0., 0., ..., 0., 0., 0.],\n",
       "       ...,\n",
       "       [0., 0., 0., ..., 0., 0., 0.],\n",
       "       [0., 0., 0., ..., 0., 0., 0.],\n",
       "       [0., 0., 0., ..., 0., 0., 0.]])"
      ]
     },
     "execution_count": 12,
     "metadata": {},
     "output_type": "execute_result"
    }
   ],
   "source": [
    "\n",
    "test = np.zeros([256,128])\n",
    "for j in range(256): test[j] = ov[j,:]*mask[j]\n",
    "    \n",
    "test\n"
   ]
  },
  {
   "cell_type": "code",
   "execution_count": 18,
   "id": "1ca73116",
   "metadata": {},
   "outputs": [
    {
     "data": {
      "text/plain": [
       "tensor([1.8004, 1.0218, 2.2712, 1.5216, 1.5911, 2.1567, 2.1957, 1.4778, 0.9642,\n",
       "        2.2141, 1.2309, 1.4722, 2.3654, 2.1464, 1.3858, 1.9947, 2.3275, 2.1586,\n",
       "        2.2215, 2.0483, 2.0320, 2.7343, 1.8062, 1.9067, 2.0160, 1.2219, 1.4781,\n",
       "        0.8772, 2.6941, 1.0765, 1.2240, 1.6048, 1.2305, 2.4377, 2.5193, 1.7954,\n",
       "        1.8876, 1.4313, 2.9403, 2.7630, 1.5044, 1.5977, 1.4117, 1.3609, 0.9260,\n",
       "        1.2488, 2.6444, 2.4981, 2.0521, 2.1192, 2.7553, 2.9904, 2.6347, 2.0229,\n",
       "        2.2887, 1.4492, 2.7866, 1.9758, 1.1116, 2.9795, 1.5936, 2.2372, 1.0480,\n",
       "        1.7525, 1.8079, 1.8480, 2.2686, 2.4383, 2.6425, 2.4132, 0.8812, 2.8395,\n",
       "        1.7283, 2.2502, 2.6496, 2.3787, 1.2434, 1.0884, 2.6112, 1.7283, 2.5096,\n",
       "        2.7801, 2.3378, 1.4065, 2.9754, 2.2778, 1.4525, 1.7534, 1.7089, 1.8786,\n",
       "        1.2815, 1.2808, 1.7761, 1.7805, 1.6126, 2.1700, 2.9951, 1.3185, 2.6919,\n",
       "        2.0858, 1.3892, 1.1936, 3.1327, 1.1422, 2.1617, 2.6481, 1.3488, 2.2236,\n",
       "        1.2288, 1.4163, 1.3945, 1.4094, 1.4180, 2.2710, 1.4558, 2.4805, 2.1201,\n",
       "        1.2193, 2.8996, 2.0680, 1.9304, 1.1783, 1.3949, 1.8559, 2.3340, 2.2915,\n",
       "        1.1471, 1.8191])"
      ]
     },
     "execution_count": 18,
     "metadata": {},
     "output_type": "execute_result"
    }
   ],
   "source": [
    "full = torch.Tensor(test.sum(axis=0))\n",
    "full"
   ]
  },
  {
   "cell_type": "code",
   "execution_count": 22,
   "id": "d2ba778b",
   "metadata": {},
   "outputs": [
    {
     "data": {
      "text/plain": [
       "torch.Size([2, 128])"
      ]
     },
     "execution_count": 22,
     "metadata": {},
     "output_type": "execute_result"
    }
   ],
   "source": [
    "rt = torch.stack([full,full])\n",
    "rt.shape"
   ]
  },
  {
   "cell_type": "code",
   "execution_count": 23,
   "id": "f9ba5839",
   "metadata": {},
   "outputs": [
    {
     "data": {
      "text/plain": [
       "tensor([[0.0797, 0.0452, 0.1006, 0.0674, 0.0705, 0.0955, 0.0972, 0.0654, 0.0427,\n",
       "         0.0980, 0.0545, 0.0652, 0.1047, 0.0950, 0.0614, 0.0883, 0.1031, 0.0956,\n",
       "         0.0984, 0.0907, 0.0900, 0.1211, 0.0800, 0.0844, 0.0893, 0.0541, 0.0655,\n",
       "         0.0388, 0.1193, 0.0477, 0.0542, 0.0711, 0.0545, 0.1079, 0.1116, 0.0795,\n",
       "         0.0836, 0.0634, 0.1302, 0.1224, 0.0666, 0.0707, 0.0625, 0.0603, 0.0410,\n",
       "         0.0553, 0.1171, 0.1106, 0.0909, 0.0938, 0.1220, 0.1324, 0.1167, 0.0896,\n",
       "         0.1013, 0.0642, 0.1234, 0.0875, 0.0492, 0.1319, 0.0706, 0.0991, 0.0464,\n",
       "         0.0776, 0.0801, 0.0818, 0.1005, 0.1080, 0.1170, 0.1069, 0.0390, 0.1257,\n",
       "         0.0765, 0.0996, 0.1173, 0.1053, 0.0551, 0.0482, 0.1156, 0.0765, 0.1111,\n",
       "         0.1231, 0.1035, 0.0623, 0.1318, 0.1009, 0.0643, 0.0776, 0.0757, 0.0832,\n",
       "         0.0567, 0.0567, 0.0786, 0.0788, 0.0714, 0.0961, 0.1326, 0.0584, 0.1192,\n",
       "         0.0924, 0.0615, 0.0529, 0.1387, 0.0506, 0.0957, 0.1173, 0.0597, 0.0985,\n",
       "         0.0544, 0.0627, 0.0617, 0.0624, 0.0628, 0.1006, 0.0645, 0.1098, 0.0939,\n",
       "         0.0540, 0.1284, 0.0916, 0.0855, 0.0522, 0.0618, 0.0822, 0.1034, 0.1015,\n",
       "         0.0508, 0.0806],\n",
       "        [0.0797, 0.0452, 0.1006, 0.0674, 0.0705, 0.0955, 0.0972, 0.0654, 0.0427,\n",
       "         0.0980, 0.0545, 0.0652, 0.1047, 0.0950, 0.0614, 0.0883, 0.1031, 0.0956,\n",
       "         0.0984, 0.0907, 0.0900, 0.1211, 0.0800, 0.0844, 0.0893, 0.0541, 0.0655,\n",
       "         0.0388, 0.1193, 0.0477, 0.0542, 0.0711, 0.0545, 0.1079, 0.1116, 0.0795,\n",
       "         0.0836, 0.0634, 0.1302, 0.1224, 0.0666, 0.0707, 0.0625, 0.0603, 0.0410,\n",
       "         0.0553, 0.1171, 0.1106, 0.0909, 0.0938, 0.1220, 0.1324, 0.1167, 0.0896,\n",
       "         0.1013, 0.0642, 0.1234, 0.0875, 0.0492, 0.1319, 0.0706, 0.0991, 0.0464,\n",
       "         0.0776, 0.0801, 0.0818, 0.1005, 0.1080, 0.1170, 0.1069, 0.0390, 0.1257,\n",
       "         0.0765, 0.0996, 0.1173, 0.1053, 0.0551, 0.0482, 0.1156, 0.0765, 0.1111,\n",
       "         0.1231, 0.1035, 0.0623, 0.1318, 0.1009, 0.0643, 0.0776, 0.0757, 0.0832,\n",
       "         0.0567, 0.0567, 0.0786, 0.0788, 0.0714, 0.0961, 0.1326, 0.0584, 0.1192,\n",
       "         0.0924, 0.0615, 0.0529, 0.1387, 0.0506, 0.0957, 0.1173, 0.0597, 0.0985,\n",
       "         0.0544, 0.0627, 0.0617, 0.0624, 0.0628, 0.1006, 0.0645, 0.1098, 0.0939,\n",
       "         0.0540, 0.1284, 0.0916, 0.0855, 0.0522, 0.0618, 0.0822, 0.1034, 0.1015,\n",
       "         0.0508, 0.0806]])"
      ]
     },
     "execution_count": 23,
     "metadata": {},
     "output_type": "execute_result"
    }
   ],
   "source": [
    "result = torch.nn.functional.normalize(rt)\n",
    "result"
   ]
  },
  {
   "cell_type": "code",
   "execution_count": 25,
   "id": "8a6b66d4",
   "metadata": {},
   "outputs": [
    {
     "data": {
      "text/plain": [
       "tensor([[0.7071, 0.7071, 0.7071, 0.7071, 0.7071, 0.7071, 0.7071, 0.7071, 0.7071,\n",
       "         0.7071, 0.7071, 0.7071, 0.7071, 0.7071, 0.7071, 0.7071, 0.7071, 0.7071,\n",
       "         0.7071, 0.7071, 0.7071, 0.7071, 0.7071, 0.7071, 0.7071, 0.7071, 0.7071,\n",
       "         0.7071, 0.7071, 0.7071, 0.7071, 0.7071, 0.7071, 0.7071, 0.7071, 0.7071,\n",
       "         0.7071, 0.7071, 0.7071, 0.7071, 0.7071, 0.7071, 0.7071, 0.7071, 0.7071,\n",
       "         0.7071, 0.7071, 0.7071, 0.7071, 0.7071, 0.7071, 0.7071, 0.7071, 0.7071,\n",
       "         0.7071, 0.7071, 0.7071, 0.7071, 0.7071, 0.7071, 0.7071, 0.7071, 0.7071,\n",
       "         0.7071, 0.7071, 0.7071, 0.7071, 0.7071, 0.7071, 0.7071, 0.7071, 0.7071,\n",
       "         0.7071, 0.7071, 0.7071, 0.7071, 0.7071, 0.7071, 0.7071, 0.7071, 0.7071,\n",
       "         0.7071, 0.7071, 0.7071, 0.7071, 0.7071, 0.7071, 0.7071, 0.7071, 0.7071,\n",
       "         0.7071, 0.7071, 0.7071, 0.7071, 0.7071, 0.7071, 0.7071, 0.7071, 0.7071,\n",
       "         0.7071, 0.7071, 0.7071, 0.7071, 0.7071, 0.7071, 0.7071, 0.7071, 0.7071,\n",
       "         0.7071, 0.7071, 0.7071, 0.7071, 0.7071, 0.7071, 0.7071, 0.7071, 0.7071,\n",
       "         0.7071, 0.7071, 0.7071, 0.7071, 0.7071, 0.7071, 0.7071, 0.7071, 0.7071,\n",
       "         0.7071, 0.7071],\n",
       "        [0.7071, 0.7071, 0.7071, 0.7071, 0.7071, 0.7071, 0.7071, 0.7071, 0.7071,\n",
       "         0.7071, 0.7071, 0.7071, 0.7071, 0.7071, 0.7071, 0.7071, 0.7071, 0.7071,\n",
       "         0.7071, 0.7071, 0.7071, 0.7071, 0.7071, 0.7071, 0.7071, 0.7071, 0.7071,\n",
       "         0.7071, 0.7071, 0.7071, 0.7071, 0.7071, 0.7071, 0.7071, 0.7071, 0.7071,\n",
       "         0.7071, 0.7071, 0.7071, 0.7071, 0.7071, 0.7071, 0.7071, 0.7071, 0.7071,\n",
       "         0.7071, 0.7071, 0.7071, 0.7071, 0.7071, 0.7071, 0.7071, 0.7071, 0.7071,\n",
       "         0.7071, 0.7071, 0.7071, 0.7071, 0.7071, 0.7071, 0.7071, 0.7071, 0.7071,\n",
       "         0.7071, 0.7071, 0.7071, 0.7071, 0.7071, 0.7071, 0.7071, 0.7071, 0.7071,\n",
       "         0.7071, 0.7071, 0.7071, 0.7071, 0.7071, 0.7071, 0.7071, 0.7071, 0.7071,\n",
       "         0.7071, 0.7071, 0.7071, 0.7071, 0.7071, 0.7071, 0.7071, 0.7071, 0.7071,\n",
       "         0.7071, 0.7071, 0.7071, 0.7071, 0.7071, 0.7071, 0.7071, 0.7071, 0.7071,\n",
       "         0.7071, 0.7071, 0.7071, 0.7071, 0.7071, 0.7071, 0.7071, 0.7071, 0.7071,\n",
       "         0.7071, 0.7071, 0.7071, 0.7071, 0.7071, 0.7071, 0.7071, 0.7071, 0.7071,\n",
       "         0.7071, 0.7071, 0.7071, 0.7071, 0.7071, 0.7071, 0.7071, 0.7071, 0.7071,\n",
       "         0.7071, 0.7071]])"
      ]
     },
     "execution_count": 25,
     "metadata": {},
     "output_type": "execute_result"
    }
   ],
   "source": [
    "torch.nn.functional.normalize(rt,dim=0)"
   ]
  },
  {
   "cell_type": "code",
   "execution_count": 15,
   "id": "52edd113",
   "metadata": {},
   "outputs": [
    {
     "data": {
      "text/plain": [
       "tensor([0., 0., 0., 0.])"
      ]
     },
     "execution_count": 15,
     "metadata": {},
     "output_type": "execute_result"
    }
   ],
   "source": [
    "import torch\n",
    "\n",
    "im2cluster = torch.LongTensor([0,1,2,9,4,5,6,7,8,9])\n",
    "indices = torch.Tensor([3,5,8,5])\n",
    "result = torch.zeros(indices.shape)\n",
    "#result = im2cluster[torch.LongTensor(indices)]\n",
    "\n",
    "result"
   ]
  },
  {
   "cell_type": "code",
   "execution_count": 16,
   "id": "6d122068",
   "metadata": {},
   "outputs": [
    {
     "data": {
      "text/plain": [
       "tensor([9., 5., 8., 5.])"
      ]
     },
     "execution_count": 16,
     "metadata": {},
     "output_type": "execute_result"
    }
   ],
   "source": [
    "for i in range(len(result)): result[i] = im2cluster[int(indices[i])]\n",
    "result"
   ]
  },
  {
   "cell_type": "code",
   "execution_count": 14,
   "id": "7d9e6cfe",
   "metadata": {},
   "outputs": [
    {
     "data": {
      "text/plain": [
       "tensor([0, 1, 0])"
      ]
     },
     "execution_count": 14,
     "metadata": {},
     "output_type": "execute_result"
    }
   ],
   "source": [
    "mask = (result == 5).type(torch.LongTensor)\n",
    "mask"
   ]
  },
  {
   "cell_type": "code",
   "execution_count": 11,
   "id": "c70646d1",
   "metadata": {},
   "outputs": [
    {
     "data": {
      "text/plain": [
       "tensor([5.])"
      ]
     },
     "execution_count": 11,
     "metadata": {},
     "output_type": "execute_result"
    }
   ],
   "source": [
    "result[mask]"
   ]
  },
  {
   "cell_type": "code",
   "execution_count": 18,
   "id": "5afd2684",
   "metadata": {},
   "outputs": [
    {
     "data": {
      "text/plain": [
       "tensor([[0.4458, 0.4328, 0.4932, 0.0688, 0.6126, 0.3331, 0.6807, 0.0957, 0.7779,\n",
       "         0.4042, 0.4741, 0.9223, 0.3594, 0.4110, 0.2852, 0.4154, 0.6166, 0.4803,\n",
       "         0.5927, 0.4580, 0.1069, 0.5968, 0.5103, 0.5048, 0.7451, 0.9386, 0.9667,\n",
       "         0.0124, 0.3030, 0.3234, 0.2924, 0.9119, 0.5590, 0.8090, 0.8660, 0.2469,\n",
       "         0.6935, 0.9911, 0.7713, 0.8186, 0.4629, 0.0597, 0.5654, 0.7187, 0.7101,\n",
       "         0.7079, 0.0769, 0.0592, 0.2426, 0.0717, 0.8110, 0.7377, 0.0772, 0.2047,\n",
       "         0.2644, 0.7810, 0.0666, 0.7645, 0.3487, 0.5125, 0.3880, 0.5742, 0.3107,\n",
       "         0.6402, 0.1851, 0.8702, 0.8876, 0.5102, 0.6056, 0.3790, 0.6425, 0.0056,\n",
       "         0.5760, 0.3056, 0.7507, 0.5562, 0.2750, 0.5403, 0.8071, 0.8797, 0.3374,\n",
       "         0.9388, 0.4720, 0.9550, 0.0600, 0.5554, 0.8450, 0.6971, 0.9577, 0.9036,\n",
       "         0.8057, 0.2719, 0.7022, 0.8459, 0.5952, 0.3173, 0.3310, 0.6273, 0.0081,\n",
       "         0.9530, 0.0851, 0.7687, 0.1682, 0.2168, 0.1417, 0.2472, 0.8524, 0.1160,\n",
       "         0.4256, 0.4162, 0.4650, 0.1039, 0.7029, 0.9808, 0.4286, 0.6524, 0.0629,\n",
       "         0.0600, 0.8596, 0.6123, 0.3707, 0.4512, 0.8436, 0.5277, 0.0863, 0.8683,\n",
       "         0.2838, 0.4853],\n",
       "        [0.8527, 0.8437, 0.0218, 0.5885, 0.8570, 0.2654, 0.5986, 0.2050, 0.2904,\n",
       "         0.6212, 0.9042, 0.6112, 0.9655, 0.0154, 0.5393, 0.3272, 0.2809, 0.6352,\n",
       "         0.0947, 0.7739, 0.3382, 0.4039, 0.5952, 0.2795, 0.2231, 0.2613, 0.6387,\n",
       "         0.8485, 0.2046, 0.3568, 0.4825, 0.2800, 0.1617, 0.3581, 0.2067, 0.2073,\n",
       "         0.4615, 0.9109, 0.2957, 0.5517, 0.3893, 0.1837, 0.1004, 0.0996, 0.3945,\n",
       "         0.6113, 0.8052, 0.5294, 0.8341, 0.2719, 0.2315, 0.8823, 0.2350, 0.6566,\n",
       "         0.7236, 0.4997, 0.5797, 0.6466, 0.4162, 0.6543, 0.0620, 0.7537, 0.9844,\n",
       "         0.3655, 0.9518, 0.7068, 0.4290, 0.7856, 0.6116, 0.6107, 0.1198, 0.0338,\n",
       "         0.7779, 0.4883, 0.1744, 0.6102, 0.9021, 0.2531, 0.5855, 0.0734, 0.3716,\n",
       "         0.4096, 0.1407, 0.1358, 0.7467, 0.5213, 0.0590, 0.4896, 0.3934, 0.4236,\n",
       "         0.3122, 0.4635, 0.8254, 0.1510, 0.8681, 0.7884, 0.3780, 0.4160, 0.2057,\n",
       "         0.6815, 0.3948, 0.7559, 0.8429, 0.8931, 0.3391, 0.9567, 0.0795, 0.7634,\n",
       "         0.3665, 0.2005, 0.8800, 0.0336, 0.1716, 0.9566, 0.8681, 0.8898, 0.8292,\n",
       "         0.2764, 0.5057, 0.7336, 0.6342, 0.6997, 0.9209, 0.3078, 0.0411, 0.2821,\n",
       "         0.9247, 0.4612]])"
      ]
     },
     "execution_count": 18,
     "metadata": {},
     "output_type": "execute_result"
    }
   ],
   "source": [
    "mask = result == 5\n",
    "idx = torch.rand([4,128])\n",
    "res = idx[mask]\n",
    "res"
   ]
  },
  {
   "cell_type": "code",
   "execution_count": 24,
   "id": "458dae5e",
   "metadata": {},
   "outputs": [
    {
     "data": {
      "text/plain": [
       "torch.Size([128])"
      ]
     },
     "execution_count": 24,
     "metadata": {},
     "output_type": "execute_result"
    }
   ],
   "source": [
    "zz = torch.sum(res,dim=0)\n",
    "zz.shape"
   ]
  },
  {
   "cell_type": "code",
   "execution_count": 25,
   "id": "ab155067",
   "metadata": {},
   "outputs": [
    {
     "data": {
      "text/plain": [
       "tensor([0.6493, 0.6382, 0.2575, 0.3286, 0.7348, 0.2993, 0.6396, 0.1503, 0.5341,\n",
       "        0.5127, 0.6892, 0.7667, 0.6624, 0.2132, 0.4122, 0.3713, 0.4488, 0.5578,\n",
       "        0.3437, 0.6160, 0.2226, 0.5003, 0.5528, 0.3922, 0.4841, 0.5999, 0.8027,\n",
       "        0.4304, 0.2538, 0.3401, 0.3875, 0.5960, 0.3603, 0.5835, 0.5363, 0.2271,\n",
       "        0.5775, 0.9510, 0.5335, 0.6852, 0.4261, 0.1217, 0.3329, 0.4092, 0.5523,\n",
       "        0.6596, 0.4410, 0.2943, 0.5384, 0.1718, 0.5212, 0.8100, 0.1561, 0.4306,\n",
       "        0.4940, 0.6403, 0.3231, 0.7056, 0.3824, 0.5834, 0.2250, 0.6639, 0.6476,\n",
       "        0.5029, 0.5685, 0.7885, 0.6583, 0.6479, 0.6086, 0.4948, 0.3811, 0.0197,\n",
       "        0.6769, 0.3969, 0.4626, 0.5832, 0.5886, 0.3967, 0.6963, 0.4766, 0.3545,\n",
       "        0.6742, 0.3063, 0.5454, 0.4034, 0.5384, 0.4520, 0.5934, 0.6756, 0.6636,\n",
       "        0.5590, 0.3677, 0.7638, 0.4985, 0.7317, 0.5528, 0.3545, 0.5216, 0.1069,\n",
       "        0.8173, 0.2399, 0.7623, 0.5055, 0.5550, 0.2404, 0.6020, 0.4659, 0.4397,\n",
       "        0.3960, 0.3083, 0.6725, 0.0688, 0.4372, 0.9687, 0.6483, 0.7711, 0.4460,\n",
       "        0.1682, 0.6827, 0.6729, 0.5024, 0.5754, 0.8823, 0.4178, 0.0637, 0.5752,\n",
       "        0.6043, 0.4733])"
      ]
     },
     "execution_count": 25,
     "metadata": {},
     "output_type": "execute_result"
    }
   ],
   "source": [
    "zz/2"
   ]
  },
  {
   "cell_type": "code",
   "execution_count": null,
   "id": "77ff56e3",
   "metadata": {},
   "outputs": [],
   "source": []
  }
 ],
 "metadata": {
  "kernelspec": {
   "display_name": "Python 3 (ipykernel)",
   "language": "python",
   "name": "python3"
  },
  "language_info": {
   "codemirror_mode": {
    "name": "ipython",
    "version": 3
   },
   "file_extension": ".py",
   "mimetype": "text/x-python",
   "name": "python",
   "nbconvert_exporter": "python",
   "pygments_lexer": "ipython3",
   "version": "3.7.10"
  }
 },
 "nbformat": 4,
 "nbformat_minor": 5
}
