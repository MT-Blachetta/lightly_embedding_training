{
 "cells": [
  {
   "cell_type": "code",
   "execution_count": 1,
   "id": "7f93bb52",
   "metadata": {},
   "outputs": [
    {
     "name": "stderr",
     "output_type": "stream",
     "text": [
      "C:\\ProgramData\\Anaconda3\\lib\\site-packages\\sklearn\\feature_extraction\\image.py:167: DeprecationWarning: `np.int` is a deprecated alias for the builtin `int`. To silence this warning, use `int` by itself. Doing this will not modify any behavior and is safe. When replacing `np.int`, you may wish to use e.g. `np.int64` or `np.int32` to specify the precision. If you wish to review your current use, check the release note link for additional information.\n",
      "Deprecated in NumPy 1.20; for more details and guidance: https://numpy.org/devdocs/release/1.20.0-notes.html#deprecations\n",
      "  dtype=np.int):\n",
      "C:\\ProgramData\\Anaconda3\\lib\\site-packages\\sklearn\\linear_model\\least_angle.py:30: DeprecationWarning: `np.float` is a deprecated alias for the builtin `float`. To silence this warning, use `float` by itself. Doing this will not modify any behavior and is safe. If you specifically wanted the numpy scalar type, use `np.float64` here.\n",
      "Deprecated in NumPy 1.20; for more details and guidance: https://numpy.org/devdocs/release/1.20.0-notes.html#deprecations\n",
      "  method='lar', copy_X=True, eps=np.finfo(np.float).eps,\n",
      "C:\\ProgramData\\Anaconda3\\lib\\site-packages\\sklearn\\linear_model\\least_angle.py:167: DeprecationWarning: `np.float` is a deprecated alias for the builtin `float`. To silence this warning, use `float` by itself. Doing this will not modify any behavior and is safe. If you specifically wanted the numpy scalar type, use `np.float64` here.\n",
      "Deprecated in NumPy 1.20; for more details and guidance: https://numpy.org/devdocs/release/1.20.0-notes.html#deprecations\n",
      "  method='lar', copy_X=True, eps=np.finfo(np.float).eps,\n",
      "C:\\ProgramData\\Anaconda3\\lib\\site-packages\\sklearn\\linear_model\\least_angle.py:284: DeprecationWarning: `np.float` is a deprecated alias for the builtin `float`. To silence this warning, use `float` by itself. Doing this will not modify any behavior and is safe. If you specifically wanted the numpy scalar type, use `np.float64` here.\n",
      "Deprecated in NumPy 1.20; for more details and guidance: https://numpy.org/devdocs/release/1.20.0-notes.html#deprecations\n",
      "  eps=np.finfo(np.float).eps, copy_Gram=True, verbose=0,\n",
      "C:\\ProgramData\\Anaconda3\\lib\\site-packages\\sklearn\\linear_model\\least_angle.py:862: DeprecationWarning: `np.float` is a deprecated alias for the builtin `float`. To silence this warning, use `float` by itself. Doing this will not modify any behavior and is safe. If you specifically wanted the numpy scalar type, use `np.float64` here.\n",
      "Deprecated in NumPy 1.20; for more details and guidance: https://numpy.org/devdocs/release/1.20.0-notes.html#deprecations\n",
      "  eps=np.finfo(np.float).eps, copy_X=True, fit_path=True,\n",
      "C:\\ProgramData\\Anaconda3\\lib\\site-packages\\sklearn\\linear_model\\least_angle.py:1101: DeprecationWarning: `np.float` is a deprecated alias for the builtin `float`. To silence this warning, use `float` by itself. Doing this will not modify any behavior and is safe. If you specifically wanted the numpy scalar type, use `np.float64` here.\n",
      "Deprecated in NumPy 1.20; for more details and guidance: https://numpy.org/devdocs/release/1.20.0-notes.html#deprecations\n",
      "  eps=np.finfo(np.float).eps, copy_X=True, fit_path=True,\n",
      "C:\\ProgramData\\Anaconda3\\lib\\site-packages\\sklearn\\linear_model\\least_angle.py:1127: DeprecationWarning: `np.float` is a deprecated alias for the builtin `float`. To silence this warning, use `float` by itself. Doing this will not modify any behavior and is safe. If you specifically wanted the numpy scalar type, use `np.float64` here.\n",
      "Deprecated in NumPy 1.20; for more details and guidance: https://numpy.org/devdocs/release/1.20.0-notes.html#deprecations\n",
      "  eps=np.finfo(np.float).eps, positive=False):\n",
      "C:\\ProgramData\\Anaconda3\\lib\\site-packages\\sklearn\\linear_model\\least_angle.py:1362: DeprecationWarning: `np.float` is a deprecated alias for the builtin `float`. To silence this warning, use `float` by itself. Doing this will not modify any behavior and is safe. If you specifically wanted the numpy scalar type, use `np.float64` here.\n",
      "Deprecated in NumPy 1.20; for more details and guidance: https://numpy.org/devdocs/release/1.20.0-notes.html#deprecations\n",
      "  max_n_alphas=1000, n_jobs=None, eps=np.finfo(np.float).eps,\n",
      "C:\\ProgramData\\Anaconda3\\lib\\site-packages\\sklearn\\linear_model\\least_angle.py:1602: DeprecationWarning: `np.float` is a deprecated alias for the builtin `float`. To silence this warning, use `float` by itself. Doing this will not modify any behavior and is safe. If you specifically wanted the numpy scalar type, use `np.float64` here.\n",
      "Deprecated in NumPy 1.20; for more details and guidance: https://numpy.org/devdocs/release/1.20.0-notes.html#deprecations\n",
      "  max_n_alphas=1000, n_jobs=None, eps=np.finfo(np.float).eps,\n",
      "C:\\ProgramData\\Anaconda3\\lib\\site-packages\\sklearn\\linear_model\\least_angle.py:1738: DeprecationWarning: `np.float` is a deprecated alias for the builtin `float`. To silence this warning, use `float` by itself. Doing this will not modify any behavior and is safe. If you specifically wanted the numpy scalar type, use `np.float64` here.\n",
      "Deprecated in NumPy 1.20; for more details and guidance: https://numpy.org/devdocs/release/1.20.0-notes.html#deprecations\n",
      "  eps=np.finfo(np.float).eps, copy_X=True, positive=False):\n"
     ]
    },
    {
     "name": "stdout",
     "output_type": "stream",
     "text": [
      "(256, 128)\n"
     ]
    }
   ],
   "source": [
    "import numpy as np\n",
    "import torch\n",
    "import nltk\n",
    "from nltk.cluster.kmeans import KMeansClusterer\n",
    "\n",
    "feature_dim = 128\n",
    "batch_size = 256\n",
    "\n",
    "ov = np.random.rand(batch_size,feature_dim)\n",
    "print(ov.shape)\n",
    "av = np.random.rand(batch_size,feature_dim)\n",
    "\n",
    "k = 10\n",
    "            #from spherecluster import SphericalKMeans\n",
    "clusterer = KMeansClusterer(k, distance=nltk.cluster.util.cosine_distance, repeats=20, normalise=True, avoid_empty_clusters=True)\n",
    "            #skm = SphericalKMeans(n_clusters=k)\n",
    "            #skm.fit(ov)\n",
    "clusterer_I = KMeansClusterer(k, distance=nltk.cluster.util.cosine_distance, repeats=20, normalise=True, avoid_empty_clusters=True)\n",
    "labels_ = clusterer.cluster(ov,True)\n",
    "labels_I = clusterer_I.cluster(av,True)\n",
    "cluster_centers = torch.Tensor( np.array(clusterer.means()) ) \n",
    "cluster_centers_I = torch.Tensor( np.array(clusterer_I.means()) )"
   ]
  },
  {
   "cell_type": "code",
   "execution_count": 5,
   "id": "0011e686",
   "metadata": {},
   "outputs": [
    {
     "data": {
      "text/plain": [
       "torch.Size([10, 2, 128])"
      ]
     },
     "execution_count": 5,
     "metadata": {},
     "output_type": "execute_result"
    }
   ],
   "source": [
    "test = torch.stack([cluster_centers,cluster_centers_I],dim=1)\n",
    "test.shape"
   ]
  },
  {
   "cell_type": "code",
   "execution_count": 8,
   "id": "fea07561",
   "metadata": {},
   "outputs": [
    {
     "data": {
      "text/plain": [
       "255"
      ]
     },
     "execution_count": 8,
     "metadata": {},
     "output_type": "execute_result"
    }
   ],
   "source": [
    "len(labels_[1:])"
   ]
  },
  {
   "cell_type": "code",
   "execution_count": 26,
   "id": "a365e2df",
   "metadata": {},
   "outputs": [
    {
     "data": {
      "text/plain": [
       "tensor([[0., 0., 0.,  ..., 0., 0., 0.],\n",
       "        [0., 0., 0.,  ..., 0., 0., 0.],\n",
       "        [0., 0., 0.,  ..., 0., 0., 0.],\n",
       "        ...,\n",
       "        [0., 0., 0.,  ..., 0., 0., 0.],\n",
       "        [0., 0., 0.,  ..., 0., 0., 0.],\n",
       "        [0., 0., 0.,  ..., 0., 0., 0.]])"
      ]
     },
     "execution_count": 26,
     "metadata": {},
     "output_type": "execute_result"
    }
   ],
   "source": [
    "tt = torch.zeros([256,128])\n",
    "tt"
   ]
  },
  {
   "cell_type": "code",
   "execution_count": 9,
   "id": "31b1a1b4",
   "metadata": {},
   "outputs": [
    {
     "data": {
      "text/plain": [
       "array([0., 0., 0., 1., 0., 0., 0., 0., 0., 0., 0., 0., 1., 0., 0., 0., 0.,\n",
       "       0., 0., 0., 0., 0., 0., 0., 0., 0., 0., 0., 0., 0., 0., 0., 0., 0.,\n",
       "       0., 0., 0., 0., 0., 0., 0., 0., 0., 0., 0., 0., 0., 0., 0., 0., 0.,\n",
       "       0., 0., 0., 0., 0., 0., 0., 0., 0., 0., 0., 0., 0., 0., 0., 0., 0.,\n",
       "       0., 0., 0., 0., 0., 0., 0., 0., 0., 0., 0., 0., 0., 0., 0., 0., 0.,\n",
       "       0., 0., 0., 0., 1., 0., 0., 0., 0., 0., 0., 0., 0., 0., 0., 0., 0.,\n",
       "       0., 0., 0., 0., 0., 0., 0., 0., 0., 0., 0., 0., 0., 0., 0., 0., 0.,\n",
       "       0., 0., 0., 0., 1., 0., 0., 0., 0., 0., 0., 0., 0., 0., 0., 0., 0.,\n",
       "       0., 0., 0., 0., 0., 0., 0., 0., 0., 0., 0., 0., 0., 0., 0., 0., 0.,\n",
       "       0., 0., 0., 0., 0., 0., 0., 0., 0., 0., 0., 0., 0., 0., 0., 0., 0.,\n",
       "       0., 0., 0., 0., 0., 0., 0., 0., 0., 0., 0., 0., 0., 0., 0., 0., 0.,\n",
       "       0., 0., 0., 0., 0., 0., 0., 0., 0., 0., 0., 0., 0., 0., 0., 0., 0.,\n",
       "       0., 0., 0., 0., 0., 0., 0., 0., 0., 0., 0., 0., 0., 0., 0., 0., 0.,\n",
       "       0., 0., 0., 0., 0., 0., 0., 0., 0., 0., 0., 0., 0., 0., 0., 0., 0.,\n",
       "       0., 0., 0., 0., 0., 0., 0., 0., 0., 0., 0., 0., 0., 0., 0., 0., 0.,\n",
       "       0.])"
      ]
     },
     "execution_count": 9,
     "metadata": {},
     "output_type": "execute_result"
    }
   ],
   "source": [
    "mask = np.zeros([256])\n",
    "mask[3] = 1\n",
    "mask[89] = 1\n",
    "mask[123] = 1\n",
    "mask[12] = 1\n",
    "mask"
   ]
  },
  {
   "cell_type": "code",
   "execution_count": 12,
   "id": "f0926146",
   "metadata": {},
   "outputs": [
    {
     "data": {
      "text/plain": [
       "array([[0., 0., 0., ..., 0., 0., 0.],\n",
       "       [0., 0., 0., ..., 0., 0., 0.],\n",
       "       [0., 0., 0., ..., 0., 0., 0.],\n",
       "       ...,\n",
       "       [0., 0., 0., ..., 0., 0., 0.],\n",
       "       [0., 0., 0., ..., 0., 0., 0.],\n",
       "       [0., 0., 0., ..., 0., 0., 0.]])"
      ]
     },
     "execution_count": 12,
     "metadata": {},
     "output_type": "execute_result"
    }
   ],
   "source": [
    "\n",
    "test = np.zeros([256,128])\n",
    "for j in range(256): test[j] = ov[j,:]*mask[j]\n",
    "    \n",
    "test\n"
   ]
  },
  {
   "cell_type": "code",
   "execution_count": 18,
   "id": "1ca73116",
   "metadata": {},
   "outputs": [
    {
     "data": {
      "text/plain": [
       "tensor([1.8004, 1.0218, 2.2712, 1.5216, 1.5911, 2.1567, 2.1957, 1.4778, 0.9642,\n",
       "        2.2141, 1.2309, 1.4722, 2.3654, 2.1464, 1.3858, 1.9947, 2.3275, 2.1586,\n",
       "        2.2215, 2.0483, 2.0320, 2.7343, 1.8062, 1.9067, 2.0160, 1.2219, 1.4781,\n",
       "        0.8772, 2.6941, 1.0765, 1.2240, 1.6048, 1.2305, 2.4377, 2.5193, 1.7954,\n",
       "        1.8876, 1.4313, 2.9403, 2.7630, 1.5044, 1.5977, 1.4117, 1.3609, 0.9260,\n",
       "        1.2488, 2.6444, 2.4981, 2.0521, 2.1192, 2.7553, 2.9904, 2.6347, 2.0229,\n",
       "        2.2887, 1.4492, 2.7866, 1.9758, 1.1116, 2.9795, 1.5936, 2.2372, 1.0480,\n",
       "        1.7525, 1.8079, 1.8480, 2.2686, 2.4383, 2.6425, 2.4132, 0.8812, 2.8395,\n",
       "        1.7283, 2.2502, 2.6496, 2.3787, 1.2434, 1.0884, 2.6112, 1.7283, 2.5096,\n",
       "        2.7801, 2.3378, 1.4065, 2.9754, 2.2778, 1.4525, 1.7534, 1.7089, 1.8786,\n",
       "        1.2815, 1.2808, 1.7761, 1.7805, 1.6126, 2.1700, 2.9951, 1.3185, 2.6919,\n",
       "        2.0858, 1.3892, 1.1936, 3.1327, 1.1422, 2.1617, 2.6481, 1.3488, 2.2236,\n",
       "        1.2288, 1.4163, 1.3945, 1.4094, 1.4180, 2.2710, 1.4558, 2.4805, 2.1201,\n",
       "        1.2193, 2.8996, 2.0680, 1.9304, 1.1783, 1.3949, 1.8559, 2.3340, 2.2915,\n",
       "        1.1471, 1.8191])"
      ]
     },
     "execution_count": 18,
     "metadata": {},
     "output_type": "execute_result"
    }
   ],
   "source": [
    "full = torch.Tensor(test.sum(axis=0))\n",
    "full"
   ]
  },
  {
   "cell_type": "code",
   "execution_count": 22,
   "id": "d2ba778b",
   "metadata": {},
   "outputs": [
    {
     "data": {
      "text/plain": [
       "torch.Size([2, 128])"
      ]
     },
     "execution_count": 22,
     "metadata": {},
     "output_type": "execute_result"
    }
   ],
   "source": [
    "rt = torch.stack([full,full])\n",
    "rt.shape"
   ]
  },
  {
   "cell_type": "code",
   "execution_count": 23,
   "id": "f9ba5839",
   "metadata": {},
   "outputs": [
    {
     "data": {
      "text/plain": [
       "tensor([[0.0797, 0.0452, 0.1006, 0.0674, 0.0705, 0.0955, 0.0972, 0.0654, 0.0427,\n",
       "         0.0980, 0.0545, 0.0652, 0.1047, 0.0950, 0.0614, 0.0883, 0.1031, 0.0956,\n",
       "         0.0984, 0.0907, 0.0900, 0.1211, 0.0800, 0.0844, 0.0893, 0.0541, 0.0655,\n",
       "         0.0388, 0.1193, 0.0477, 0.0542, 0.0711, 0.0545, 0.1079, 0.1116, 0.0795,\n",
       "         0.0836, 0.0634, 0.1302, 0.1224, 0.0666, 0.0707, 0.0625, 0.0603, 0.0410,\n",
       "         0.0553, 0.1171, 0.1106, 0.0909, 0.0938, 0.1220, 0.1324, 0.1167, 0.0896,\n",
       "         0.1013, 0.0642, 0.1234, 0.0875, 0.0492, 0.1319, 0.0706, 0.0991, 0.0464,\n",
       "         0.0776, 0.0801, 0.0818, 0.1005, 0.1080, 0.1170, 0.1069, 0.0390, 0.1257,\n",
       "         0.0765, 0.0996, 0.1173, 0.1053, 0.0551, 0.0482, 0.1156, 0.0765, 0.1111,\n",
       "         0.1231, 0.1035, 0.0623, 0.1318, 0.1009, 0.0643, 0.0776, 0.0757, 0.0832,\n",
       "         0.0567, 0.0567, 0.0786, 0.0788, 0.0714, 0.0961, 0.1326, 0.0584, 0.1192,\n",
       "         0.0924, 0.0615, 0.0529, 0.1387, 0.0506, 0.0957, 0.1173, 0.0597, 0.0985,\n",
       "         0.0544, 0.0627, 0.0617, 0.0624, 0.0628, 0.1006, 0.0645, 0.1098, 0.0939,\n",
       "         0.0540, 0.1284, 0.0916, 0.0855, 0.0522, 0.0618, 0.0822, 0.1034, 0.1015,\n",
       "         0.0508, 0.0806],\n",
       "        [0.0797, 0.0452, 0.1006, 0.0674, 0.0705, 0.0955, 0.0972, 0.0654, 0.0427,\n",
       "         0.0980, 0.0545, 0.0652, 0.1047, 0.0950, 0.0614, 0.0883, 0.1031, 0.0956,\n",
       "         0.0984, 0.0907, 0.0900, 0.1211, 0.0800, 0.0844, 0.0893, 0.0541, 0.0655,\n",
       "         0.0388, 0.1193, 0.0477, 0.0542, 0.0711, 0.0545, 0.1079, 0.1116, 0.0795,\n",
       "         0.0836, 0.0634, 0.1302, 0.1224, 0.0666, 0.0707, 0.0625, 0.0603, 0.0410,\n",
       "         0.0553, 0.1171, 0.1106, 0.0909, 0.0938, 0.1220, 0.1324, 0.1167, 0.0896,\n",
       "         0.1013, 0.0642, 0.1234, 0.0875, 0.0492, 0.1319, 0.0706, 0.0991, 0.0464,\n",
       "         0.0776, 0.0801, 0.0818, 0.1005, 0.1080, 0.1170, 0.1069, 0.0390, 0.1257,\n",
       "         0.0765, 0.0996, 0.1173, 0.1053, 0.0551, 0.0482, 0.1156, 0.0765, 0.1111,\n",
       "         0.1231, 0.1035, 0.0623, 0.1318, 0.1009, 0.0643, 0.0776, 0.0757, 0.0832,\n",
       "         0.0567, 0.0567, 0.0786, 0.0788, 0.0714, 0.0961, 0.1326, 0.0584, 0.1192,\n",
       "         0.0924, 0.0615, 0.0529, 0.1387, 0.0506, 0.0957, 0.1173, 0.0597, 0.0985,\n",
       "         0.0544, 0.0627, 0.0617, 0.0624, 0.0628, 0.1006, 0.0645, 0.1098, 0.0939,\n",
       "         0.0540, 0.1284, 0.0916, 0.0855, 0.0522, 0.0618, 0.0822, 0.1034, 0.1015,\n",
       "         0.0508, 0.0806]])"
      ]
     },
     "execution_count": 23,
     "metadata": {},
     "output_type": "execute_result"
    }
   ],
   "source": [
    "result = torch.nn.functional.normalize(rt)\n",
    "result"
   ]
  },
  {
   "cell_type": "code",
   "execution_count": 25,
   "id": "8a6b66d4",
   "metadata": {},
   "outputs": [
    {
     "data": {
      "text/plain": [
       "tensor([[0.7071, 0.7071, 0.7071, 0.7071, 0.7071, 0.7071, 0.7071, 0.7071, 0.7071,\n",
       "         0.7071, 0.7071, 0.7071, 0.7071, 0.7071, 0.7071, 0.7071, 0.7071, 0.7071,\n",
       "         0.7071, 0.7071, 0.7071, 0.7071, 0.7071, 0.7071, 0.7071, 0.7071, 0.7071,\n",
       "         0.7071, 0.7071, 0.7071, 0.7071, 0.7071, 0.7071, 0.7071, 0.7071, 0.7071,\n",
       "         0.7071, 0.7071, 0.7071, 0.7071, 0.7071, 0.7071, 0.7071, 0.7071, 0.7071,\n",
       "         0.7071, 0.7071, 0.7071, 0.7071, 0.7071, 0.7071, 0.7071, 0.7071, 0.7071,\n",
       "         0.7071, 0.7071, 0.7071, 0.7071, 0.7071, 0.7071, 0.7071, 0.7071, 0.7071,\n",
       "         0.7071, 0.7071, 0.7071, 0.7071, 0.7071, 0.7071, 0.7071, 0.7071, 0.7071,\n",
       "         0.7071, 0.7071, 0.7071, 0.7071, 0.7071, 0.7071, 0.7071, 0.7071, 0.7071,\n",
       "         0.7071, 0.7071, 0.7071, 0.7071, 0.7071, 0.7071, 0.7071, 0.7071, 0.7071,\n",
       "         0.7071, 0.7071, 0.7071, 0.7071, 0.7071, 0.7071, 0.7071, 0.7071, 0.7071,\n",
       "         0.7071, 0.7071, 0.7071, 0.7071, 0.7071, 0.7071, 0.7071, 0.7071, 0.7071,\n",
       "         0.7071, 0.7071, 0.7071, 0.7071, 0.7071, 0.7071, 0.7071, 0.7071, 0.7071,\n",
       "         0.7071, 0.7071, 0.7071, 0.7071, 0.7071, 0.7071, 0.7071, 0.7071, 0.7071,\n",
       "         0.7071, 0.7071],\n",
       "        [0.7071, 0.7071, 0.7071, 0.7071, 0.7071, 0.7071, 0.7071, 0.7071, 0.7071,\n",
       "         0.7071, 0.7071, 0.7071, 0.7071, 0.7071, 0.7071, 0.7071, 0.7071, 0.7071,\n",
       "         0.7071, 0.7071, 0.7071, 0.7071, 0.7071, 0.7071, 0.7071, 0.7071, 0.7071,\n",
       "         0.7071, 0.7071, 0.7071, 0.7071, 0.7071, 0.7071, 0.7071, 0.7071, 0.7071,\n",
       "         0.7071, 0.7071, 0.7071, 0.7071, 0.7071, 0.7071, 0.7071, 0.7071, 0.7071,\n",
       "         0.7071, 0.7071, 0.7071, 0.7071, 0.7071, 0.7071, 0.7071, 0.7071, 0.7071,\n",
       "         0.7071, 0.7071, 0.7071, 0.7071, 0.7071, 0.7071, 0.7071, 0.7071, 0.7071,\n",
       "         0.7071, 0.7071, 0.7071, 0.7071, 0.7071, 0.7071, 0.7071, 0.7071, 0.7071,\n",
       "         0.7071, 0.7071, 0.7071, 0.7071, 0.7071, 0.7071, 0.7071, 0.7071, 0.7071,\n",
       "         0.7071, 0.7071, 0.7071, 0.7071, 0.7071, 0.7071, 0.7071, 0.7071, 0.7071,\n",
       "         0.7071, 0.7071, 0.7071, 0.7071, 0.7071, 0.7071, 0.7071, 0.7071, 0.7071,\n",
       "         0.7071, 0.7071, 0.7071, 0.7071, 0.7071, 0.7071, 0.7071, 0.7071, 0.7071,\n",
       "         0.7071, 0.7071, 0.7071, 0.7071, 0.7071, 0.7071, 0.7071, 0.7071, 0.7071,\n",
       "         0.7071, 0.7071, 0.7071, 0.7071, 0.7071, 0.7071, 0.7071, 0.7071, 0.7071,\n",
       "         0.7071, 0.7071]])"
      ]
     },
     "execution_count": 25,
     "metadata": {},
     "output_type": "execute_result"
    }
   ],
   "source": [
    "torch.nn.functional.normalize(rt,dim=0)"
   ]
  },
  {
   "cell_type": "code",
   "execution_count": null,
   "id": "52edd113",
   "metadata": {},
   "outputs": [],
   "source": []
  }
 ],
 "metadata": {
  "kernelspec": {
   "display_name": "Python 3 (ipykernel)",
   "language": "python",
   "name": "python3"
  },
  "language_info": {
   "codemirror_mode": {
    "name": "ipython",
    "version": 3
   },
   "file_extension": ".py",
   "mimetype": "text/x-python",
   "name": "python",
   "nbconvert_exporter": "python",
   "pygments_lexer": "ipython3",
   "version": "3.7.10"
  }
 },
 "nbformat": 4,
 "nbformat_minor": 5
}
