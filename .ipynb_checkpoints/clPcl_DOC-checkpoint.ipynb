{
 "cells": [
  {
   "cell_type": "code",
   "execution_count": 2,
   "id": "7f93bb52",
   "metadata": {},
   "outputs": [
    {
     "name": "stdout",
     "output_type": "stream",
     "text": [
      "(256, 128)\n"
     ]
    }
   ],
   "source": [
    "import numpy as np\n",
    "import torch\n",
    "import nltk\n",
    "from nltk.cluster.kmeans import KMeansClusterer\n",
    "\n",
    "feature_dim = 128\n",
    "batch_size = 256\n",
    "\n",
    "ov = np.random.rand(batch_size,feature_dim)\n",
    "print(ov.shape)\n",
    "av = np.random.rand(batch_size,feature_dim)\n",
    "\n",
    "k = 10\n",
    "            #from spherecluster import SphericalKMeans\n",
    "clusterer = KMeansClusterer(k, distance=nltk.cluster.util.cosine_distance, repeats=20, normalise=True, avoid_empty_clusters=True)\n",
    "            #skm = SphericalKMeans(n_clusters=k)\n",
    "            #skm.fit(ov)\n",
    "clusterer_I = KMeansClusterer(k, distance=nltk.cluster.util.cosine_distance, repeats=20, normalise=True, avoid_empty_clusters=True)\n",
    "labels_ = clusterer.cluster(ov,True)\n",
    "labels_I = clusterer_I.cluster(av,True)\n",
    "cluster_centers = torch.Tensor( np.array(clusterer.means()) ) \n",
    "cluster_centers_I = torch.Tensor( np.array(clusterer_I.means()) )"
   ]
  },
  {
   "cell_type": "code",
   "execution_count": 5,
   "id": "0011e686",
   "metadata": {},
   "outputs": [
    {
     "data": {
      "text/plain": [
       "torch.Size([10, 128])"
      ]
     },
     "execution_count": 5,
     "metadata": {},
     "output_type": "execute_result"
    }
   ],
   "source": [
    "cluster_centers.shape"
   ]
  },
  {
   "cell_type": "code",
   "execution_count": 8,
   "id": "fea07561",
   "metadata": {},
   "outputs": [
    {
     "data": {
      "text/plain": [
       "255"
      ]
     },
     "execution_count": 8,
     "metadata": {},
     "output_type": "execute_result"
    }
   ],
   "source": [
    "len(labels_[1:])"
   ]
  },
  {
   "cell_type": "code",
   "execution_count": 9,
   "id": "a365e2df",
   "metadata": {},
   "outputs": [
    {
     "data": {
      "text/plain": [
       "[5]"
      ]
     },
     "execution_count": 9,
     "metadata": {},
     "output_type": "execute_result"
    }
   ],
   "source": [
    "lili = [2,5]\n",
    "lili[1:]"
   ]
  },
  {
   "cell_type": "code",
   "execution_count": null,
   "id": "31b1a1b4",
   "metadata": {},
   "outputs": [],
   "source": []
  }
 ],
 "metadata": {
  "kernelspec": {
   "display_name": "Python 3 (ipykernel)",
   "language": "python",
   "name": "python3"
  },
  "language_info": {
   "codemirror_mode": {
    "name": "ipython",
    "version": 3
   },
   "file_extension": ".py",
   "mimetype": "text/x-python",
   "name": "python",
   "nbconvert_exporter": "python",
   "pygments_lexer": "ipython3",
   "version": "3.7.10"
  }
 },
 "nbformat": 4,
 "nbformat_minor": 5
}
